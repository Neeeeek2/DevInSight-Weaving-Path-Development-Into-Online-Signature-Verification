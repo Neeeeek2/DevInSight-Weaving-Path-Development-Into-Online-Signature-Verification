{
 "cells": [
  {
   "cell_type": "code",
   "execution_count": 1,
   "metadata": {},
   "outputs": [],
   "source": [
    "import os\n",
    "os.chdir('../..')\n",
    "import ml_collections\n",
    "import yaml\n",
    "from Nbody.utils import model_path\n",
    "from Nbody.models import get_model\n",
    "import torch\n",
    "from Nbody.dataloader import get_dataset\n",
    "import matplotlib.pyplot as plt\n",
    "import seaborn as sns\n",
    "import matplotlib.lines as mlines"
   ]
  },
  {
   "cell_type": "code",
   "execution_count": 2,
   "metadata": {},
   "outputs": [],
   "source": [
    "with open('Nbody/train.yaml') as file:\n",
    "    config = ml_collections.ConfigDict(yaml.safe_load(file))"
   ]
  },
  {
   "cell_type": "code",
   "execution_count": 3,
   "metadata": {},
   "outputs": [
    {
     "name": "stdout",
     "output_type": "stream",
     "text": [
      "Number of parameters: 16192\n",
      "GPU's available: 5\n"
     ]
    }
   ],
   "source": [
    "# load lstm_dev_SE model\n",
    "config.model = 'LSTM_DEV'\n",
    "config.param = 'SE'\n",
    "config.comment = 'best'\n",
    "config.gpu_id = '1'\n",
    "config.train = False\n",
    "#config.p = 30\n",
    "model_path(config)\n",
    "LSTM_dev_SE = get_model(config)\n",
    "LSTM_dev_SE.load_state_dict(torch.load(config.path), strict=False)\n",
    "LSTM_dev_SE=LSTM_dev_SE.to(config.device)"
   ]
  },
  {
   "cell_type": "code",
   "execution_count": 4,
   "metadata": {},
   "outputs": [
    {
     "name": "stdout",
     "output_type": "stream",
     "text": [
      "Number of parameters: 16330\n",
      "GPU's available: 5\n"
     ]
    }
   ],
   "source": [
    "# load lstm model\n",
    "config.model = 'LSTM'\n",
    "config.param = 'SE'\n",
    "config.comment = 'best'\n",
    "config.train = False\n",
    "model_path(config)\n",
    "LSTM = get_model(config)\n",
    "LSTM.load_state_dict(torch.load(config.path), strict=False)\n",
    "LSTM = LSTM.to(config.device)"
   ]
  },
  {
   "cell_type": "code",
   "execution_count": 5,
   "metadata": {},
   "outputs": [],
   "source": [
    "# load dataset\n",
    "dataloaders, test_loader = get_dataset(config)"
   ]
  },
  {
   "cell_type": "code",
   "execution_count": 6,
   "metadata": {},
   "outputs": [],
   "source": [
    "inputs,outputs,LSTM_dev_out,LSTM_out = [], [], [], []\n",
    "with torch.no_grad():\n",
    "    for i,(x,y) in enumerate(test_loader):\n",
    "        #print(i)\n",
    "        x = x.to(config.device)\n",
    "        inputs.append(x)\n",
    "        outputs.append(y)\n",
    "        LSTM_dev_out.append(LSTM_dev_SE(x))\n",
    "        LSTM_out.append(LSTM(x))\n"
   ]
  },
  {
   "cell_type": "code",
   "execution_count": 7,
   "metadata": {},
   "outputs": [],
   "source": [
    "inputs,outputs = torch.cat(inputs).detach().cpu().numpy(),torch.cat(outputs)\n",
    "LSTM_dev_out = torch.cat(LSTM_dev_out)\n",
    "LSTM_out = torch.cat(LSTM_out)"
   ]
  },
  {
   "cell_type": "code",
   "execution_count": 8,
   "metadata": {},
   "outputs": [
    {
     "data": {
      "image/png": "[encoded data removed]",
      "text/plain": [
       "<Figure size 720x360 with 2 Axes>"
      ]
     },
     "metadata": {},
     "output_type": "display_data"
    }
   ],
   "source": [
    "idx = 26150\n",
    "#input_path,output = inputs[i,...,:2], outputs[i,...]\n",
    "\n",
    "plt.style.use('ggplot')\n",
    "observed = mlines.Line2D([], [], color='black', marker='x', linestyle='None',\n",
    "                          markersize=6, label='last observed (x,y)')\n",
    "true = mlines.Line2D([], [], color='black',  markerfacecolor='none',marker='o', linestyle='None',\n",
    "                          markersize=8, label='true (x,y)')\n",
    "pred = mlines.Line2D([], [], color='black', marker='.', linestyle='None',\n",
    "                          markersize=6, label='predicted (x,y)')\n",
    "\n",
    "\n",
    "fig, axes = plt.subplots(1,2)\n",
    "fig.set_size_inches(10, 5)\n",
    "colors = ['r','b','c','g','m'] \n",
    "for i in range(5):\n",
    "    \n",
    "    axes[0].scatter(inputs[idx,-1,i,0],inputs[idx,-1,i,1],color = colors[i],marker='x',s=60)\n",
    "    axes[0].scatter(outputs[idx,i,0],outputs[idx,i,1],color = colors[i],s=90,\n",
    "                facecolors='none', edgecolors=colors[i])\n",
    "    axes[0].scatter(LSTM_out.detach().cpu().numpy()[idx,i,0],\n",
    "                LSTM_out.detach().cpu().numpy()[idx,i,1],color = colors[i],marker='.',s=60)\n",
    "axes[0].legend(handles=[observed, true, pred])\n",
    "x0,x1 = axes[0].get_xlim()\n",
    "y0,y1 = axes[0].get_ylim()\n",
    "axes[0].set_aspect(abs(x1-x0)/abs(y1-y0))\n",
    "axes[0].set_title('LSTM')\n",
    "for i in range(5):\n",
    "    \n",
    "    axes[1].scatter(inputs[idx,-1,i,0],inputs[idx,-1,i,1],color = colors[i],marker='x',label='last observed x-y',s=60)\n",
    "    axes[1].scatter(outputs[idx,i,0],outputs[idx,i,1],color = colors[i],s=90,\n",
    "                facecolors='none', edgecolors=colors[i],label='output x-y')\n",
    "    axes[1].scatter(LSTM_dev_out.detach().cpu().numpy()[idx,i,0],\n",
    "                LSTM_dev_out.detach().cpu().numpy()[idx,i,1],color = colors[i],marker='.',label='predicted x-y',s=60)\n",
    "axes[1].legend(handles=[observed, true, pred])\n",
    "x0,x1 = axes[1].get_xlim()\n",
    "y0,y1 = axes[1].get_ylim()\n",
    "axes[1].set_aspect(abs(x1-x0)/abs(y1-y0))\n",
    "#ax.grid(b=True, which='major', color='k', linestyle='--')\n",
    "axes[1].set_title('LSTM+DEV(SE(2))')\n",
    "fig.tight_layout()\n",
    "plt.show()\n",
    "fig.savefig('Nbody/notebooks/Nbody_plot.png',format='png',dpi=350)\n",
    "#fig.savefig('Nbody/notebooks/Nbody_LSTM_dev.png',format='png',dpi=350)\n",
    "\n",
    "\n"
   ]
  },
  {
   "cell_type": "code",
   "execution_count": null,
   "metadata": {},
   "outputs": [],
   "source": []
  }
 ],
 "metadata": {
  "kernelspec": {
   "display_name": "development",
   "language": "python",
   "name": "development"
  },
  "language_info": {
   "codemirror_mode": {
    "name": "ipython",
    "version": 3
   },
   "file_extension": ".py",
   "mimetype": "text/x-python",
   "name": "python",
   "nbconvert_exporter": "python",
   "pygments_lexer": "ipython3",
   "version": "3.7.0"
  }
 },
 "nbformat": 4,
 "nbformat_minor": 4
}
